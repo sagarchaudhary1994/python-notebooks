{
 "cells": [
  {
   "cell_type": "code",
   "execution_count": 18,
   "id": "13081f31",
   "metadata": {},
   "outputs": [
    {
     "name": "stdout",
     "output_type": "stream",
     "text": [
      "2\n",
      "6\n",
      "24\n",
      "120\n"
     ]
    }
   ],
   "source": [
    "#1.Write a Python Program to Find the Factorial of a Number?\n",
    "def findFactorial(num=0):\n",
    "    try:\n",
    "        fact=1\n",
    "        for i in range(num,0,-1):\n",
    "            fact*=i\n",
    "        return fact\n",
    "    except Exception as e:\n",
    "        print(\"Error encountered-\",e)\n",
    "\n",
    "#function call\n",
    "print(findFactorial(2))\n",
    "print(findFactorial(3))\n",
    "print(findFactorial(4))\n",
    "print(findFactorial(5))"
   ]
  },
  {
   "cell_type": "code",
   "execution_count": 19,
   "id": "1fe6e92a",
   "metadata": {},
   "outputs": [
    {
     "name": "stdout",
     "output_type": "stream",
     "text": [
      "12 x 1 = 12\n",
      "12 x 2 = 24\n",
      "12 x 3 = 36\n",
      "12 x 4 = 48\n",
      "12 x 5 = 60\n",
      "12 x 6 = 72\n",
      "12 x 7 = 84\n",
      "12 x 8 = 96\n",
      "12 x 9 = 108\n",
      "12 x 10 = 120\n"
     ]
    }
   ],
   "source": [
    "#2.Write a Python Program to Display the multiplication Table?\n",
    "def displayMultTable(n=2):\n",
    "    try:\n",
    "        for i in range(1,11):\n",
    "            print(\"{n} x {i} = {res}\".format(n=n,i=i,res=n*i))\n",
    "    except Exception as e:\n",
    "        print(\"Error encountered- \",e)\n",
    "        \n",
    "#function call\n",
    "displayMultTable(12)"
   ]
  },
  {
   "cell_type": "code",
   "execution_count": 23,
   "id": "fad473aa",
   "metadata": {},
   "outputs": [
    {
     "name": "stdout",
     "output_type": "stream",
     "text": [
      "[1, 1, 2, 3, 5, 8, 13, 21, 34, 55, 89, 144]\n"
     ]
    }
   ],
   "source": [
    "#3.Write a Python Program to Print the Fibonacci sequence?\n",
    "def fibSeries(n=10):\n",
    "    try:\n",
    "        a,b=1,1\n",
    "        for i in range(n):\n",
    "            yield a\n",
    "            a,b=b,a+b\n",
    "    except Exception as e:\n",
    "        print(\"Error encountered: \",e)\n",
    "        \n",
    "# function call\n",
    "print(list(fibSeries(12)))"
   ]
  },
  {
   "cell_type": "code",
   "execution_count": 133,
   "id": "c4caeb2d",
   "metadata": {},
   "outputs": [
    {
     "name": "stdout",
     "output_type": "stream",
     "text": [
      "True\n",
      "True\n",
      "True\n",
      "False\n",
      "False\n",
      "True\n"
     ]
    }
   ],
   "source": [
    "#4.Write a Python Program to Check Armstrong Number?\n",
    "import math\n",
    "def isArmstrong(n=5):\n",
    "    try:\n",
    "        #code to handle invalid natural numbers\n",
    "        if n<1 or isinstance(n,int)==False:\n",
    "            return False\n",
    "        \n",
    "        #for valid natural numbers\n",
    "        nOld=n\n",
    "        nDigit=math.ceil(math.log10(n))\n",
    "        tSum=0\n",
    "        while n>0:\n",
    "            tSum+=(n%10)**nDigit\n",
    "            n=n//10\n",
    "        if tSum==nOld:\n",
    "            return True\n",
    "        else:\n",
    "            return False\n",
    "        \n",
    "    except Exception as e:\n",
    "        print(\"Error encountered- \",e)\n",
    "\n",
    "#function call\n",
    "print(isArmstrong(5))\n",
    "print(isArmstrong(371))\n",
    "print(isArmstrong(1634))\n",
    "print(isArmstrong(1635))\n",
    "print(isArmstrong(0.9))\n",
    "print(isArmstrong(1))\n"
   ]
  },
  {
   "cell_type": "code",
   "execution_count": 140,
   "id": "f86ad158",
   "metadata": {},
   "outputs": [
    {
     "data": {
      "text/plain": [
       "[1, 2, 3, 4, 5, 6, 7, 8, 9, 153, 370, 371, 407, 1634, 8208, 9474]"
      ]
     },
     "execution_count": 140,
     "metadata": {},
     "output_type": "execute_result"
    }
   ],
   "source": [
    "#5.Write a Python Program to Find Armstrong Number in an Interval?\n",
    "def getAllArmstrong(start=1, end=10000):\n",
    "    try:\n",
    "        numList=range(start,end+1)\n",
    "        for num in numList:\n",
    "            res= isArmstrong(num)\n",
    "            if res:\n",
    "                yield num\n",
    "    except Exception as e:\n",
    "        print(\"Error encountered \",e)\n",
    "\n",
    "#function call\n",
    "list(getAllArmstrong())"
   ]
  },
  {
   "cell_type": "code",
   "execution_count": 153,
   "id": "74907ef5",
   "metadata": {},
   "outputs": [
    {
     "name": "stdout",
     "output_type": "stream",
     "text": [
      "55.0\n",
      "5050.0\n",
      "11325.0\n",
      "20100.0\n"
     ]
    }
   ],
   "source": [
    "#6.Write a Python Program to Find the Sum of Natural Numbers?\n",
    "def sumNaturalNum(n=10):\n",
    "    try:\n",
    "        #Formula to calculate sum is n*(n+1)/2\n",
    "        return n*(n+1)/2\n",
    "    except Exception as e:\n",
    "        print(\"Error encountered- \",e)\n",
    "        \n",
    "#function call\n",
    "print(sumNaturalNum(10))\n",
    "print(sumNaturalNum(100))\n",
    "print(sumNaturalNum(150))\n",
    "print(sumNaturalNum(200))"
   ]
  }
 ],
 "metadata": {
  "kernelspec": {
   "display_name": "Python 3 (ipykernel)",
   "language": "python",
   "name": "python3"
  },
  "language_info": {
   "codemirror_mode": {
    "name": "ipython",
    "version": 3
   },
   "file_extension": ".py",
   "mimetype": "text/x-python",
   "name": "python",
   "nbconvert_exporter": "python",
   "pygments_lexer": "ipython3",
   "version": "3.9.7"
  }
 },
 "nbformat": 4,
 "nbformat_minor": 5
}
