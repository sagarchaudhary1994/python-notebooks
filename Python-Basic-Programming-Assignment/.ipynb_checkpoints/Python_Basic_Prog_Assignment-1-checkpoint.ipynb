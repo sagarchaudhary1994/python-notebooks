{
 "cells": [
  {
   "cell_type": "code",
   "execution_count": 1,
   "id": "5b0ce915",
   "metadata": {},
   "outputs": [
    {
     "name": "stdout",
     "output_type": "stream",
     "text": [
      "Hello Python\n"
     ]
    }
   ],
   "source": [
    "#1 1.Write a Python program to print \"Hello Python\"?\n",
    "print(\"Hello Python\")"
   ]
  },
  {
   "cell_type": "code",
   "execution_count": 9,
   "id": "67a12433",
   "metadata": {},
   "outputs": [
    {
     "name": "stdout",
     "output_type": "stream",
     "text": [
      "5\n",
      "0.6666666666666666\n",
      "Not valid operation\n"
     ]
    }
   ],
   "source": [
    "#2.Write a Python program to do arithmetical operations addition and division.?\n",
    "def mathOperation(num1,num2,operator=\"add\"):\n",
    "    try:\n",
    "        if operator==\"add\":\n",
    "            return num1+num2\n",
    "        elif operator==\"div\" and num2!=0:\n",
    "            return num1/num2\n",
    "        else:\n",
    "             return \"Not valid operation\"\n",
    "    except Exception as e:\n",
    "        print(\"Error occurred:\",e)\n",
    "\n",
    "print(mathOperation(2,3))\n",
    "print(mathOperation(2,3,\"div\"))\n",
    "print(mathOperation(2,0,\"div\"))"
   ]
  },
  {
   "cell_type": "code",
   "execution_count": 12,
   "id": "7a7d2802",
   "metadata": {},
   "outputs": [],
   "source": [
    "#3.Write a Python program to find the area of a triangle?\n",
    "import math\n",
    "def areaTriangle(isBase=True,isHeight=True,**kwargs):\n",
    "    if isBase==True and isHeight==True:\n",
    "        if \"base\" in kwargs and \"height\" in kwargs:\n",
    "            return (kwargs[\"base\"]*kwargs[\"height\"])/2\n",
    "        else:\n",
    "            print(\"Pass height and base to calculate the area based\")\n",
    "    elif \"s1\" in kwargs and \"s2\" in kwargs and \"s3\" in kwargs:\n",
    "        #Finding the area using Heron's formula\n",
    "        #Find the semi perimeter\n",
    "        a,b,c=kwargs[\"s1\"],kwargs[\"s2\"],kwargs[\"s3\"]\n",
    "        s=(a+b+c)/2\n",
    "        area=math.sqrt(s*(s-a)*(s-b)*(s-c))\n",
    "        return area\n",
    "    else:\n",
    "        print(\"Pass combination of either base & height or s1,s2 &s3\")"
   ]
  },
  {
   "cell_type": "code",
   "execution_count": 14,
   "id": "5edcd578",
   "metadata": {},
   "outputs": [
    {
     "name": "stdout",
     "output_type": "stream",
     "text": [
      "50.0\n",
      "43.30127018922193\n"
     ]
    }
   ],
   "source": [
    "print(areaTriangle(base=10,height=10))\n",
    "print(areaTriangle(False,False,s1=10,s2=10,s3=10))"
   ]
  },
  {
   "cell_type": "code",
   "execution_count": 17,
   "id": "13de5fd3",
   "metadata": {},
   "outputs": [
    {
     "data": {
      "text/plain": [
       "{'a': 12, 'b': 10}"
      ]
     },
     "execution_count": 17,
     "metadata": {},
     "output_type": "execute_result"
    }
   ],
   "source": [
    " # 4.Write a Python program to swap two variables?\n",
    "def swapValue(a,b):\n",
    "    a,b=b,a\n",
    "    return {\"a\":a,\"b\":b}\n",
    "#function call\n",
    "swapValue(a=10,b=12)"
   ]
  },
  {
   "cell_type": "code",
   "execution_count": 25,
   "id": "75add46e",
   "metadata": {},
   "outputs": [
    {
     "data": {
      "text/plain": [
       "2"
      ]
     },
     "execution_count": 25,
     "metadata": {},
     "output_type": "execute_result"
    }
   ],
   "source": [
    "#5 Write a Python program to generate a random number?\n",
    "import numpy as np\n",
    "np.random.randint(10) "
   ]
  },
  {
   "cell_type": "code",
   "execution_count": null,
   "id": "57968c2c",
   "metadata": {},
   "outputs": [],
   "source": []
  },
  {
   "cell_type": "code",
   "execution_count": null,
   "id": "099c455d",
   "metadata": {},
   "outputs": [],
   "source": []
  },
  {
   "cell_type": "code",
   "execution_count": null,
   "id": "1c7ee285",
   "metadata": {},
   "outputs": [],
   "source": []
  }
 ],
 "metadata": {
  "kernelspec": {
   "display_name": "Python 3 (ipykernel)",
   "language": "python",
   "name": "python3"
  },
  "language_info": {
   "codemirror_mode": {
    "name": "ipython",
    "version": 3
   },
   "file_extension": ".py",
   "mimetype": "text/x-python",
   "name": "python",
   "nbconvert_exporter": "python",
   "pygments_lexer": "ipython3",
   "version": "3.9.7"
  }
 },
 "nbformat": 4,
 "nbformat_minor": 5
}
