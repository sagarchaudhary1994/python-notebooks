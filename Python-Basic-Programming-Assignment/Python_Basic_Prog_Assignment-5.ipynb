{
 "cells": [
  {
   "cell_type": "code",
   "execution_count": 56,
   "id": "e5f02b0a",
   "metadata": {},
   "outputs": [
    {
     "name": "stdout",
     "output_type": "stream",
     "text": [
      "LCM for number 12 and 24 is 24.0\n",
      "LCM for numbers [8, 16, 24, 32, 49] is 4704.0\n"
     ]
    }
   ],
   "source": [
    "#1.Write a Python Program to Find LCM?\n",
    "def lcm(a,b):\n",
    "    try:\n",
    "        #using formula a*b=lcm(a,b)*hcf(a,b)=> lcm(a,b)=a*b/hcf(a,b)\n",
    "        lcm=a*b/hcf(a,b)\n",
    "        return lcm\n",
    "    except Exception as e:\n",
    "        print(\"Error encountered-\",e)\n",
    "\n",
    "#function call\n",
    "a,b=12,24\n",
    "print(\"LCM for number {a} and {b} is {res}\".format(a=a,b=b,res=lcm(a,b)))\n",
    "#function call to calculate HCF for more than two numbers\n",
    "l=[8,16,24,32,49]\n",
    "cal_lcm=lcm(l[0],l[1])\n",
    "for i in range(2,len(l)):\n",
    "    #print(l[i])\n",
    "    cal_lcm=lcm(cal_lcm,l[i])\n",
    "print(\"LCM for numbers {lst} is {res}\".format(lst=l,res=cal_lcm))\n"
   ]
  },
  {
   "cell_type": "code",
   "execution_count": 49,
   "id": "ab0c9129",
   "metadata": {},
   "outputs": [
    {
     "name": "stdout",
     "output_type": "stream",
     "text": [
      "Hcf for numbers 4 and 38 is 2\n",
      "HCF for numbers [8, 16, 24, 32, 48] is 8\n"
     ]
    }
   ],
   "source": [
    "#2.Write a Python Program to Find HCF?\n",
    "def hcf(a,b):\n",
    "    try:\n",
    "        if b==0:\n",
    "            return a\n",
    "        elif a==0:\n",
    "            return b\n",
    "        else:\n",
    "            \n",
    "            a,b=b,a%b\n",
    "            res= hcf(a,b)\n",
    "            return res\n",
    "            \n",
    "    except Exception as e:\n",
    "        print(\"Error encountered- \",e)\n",
    "\n",
    "#function call\n",
    "a,b=4,38\n",
    "print(\"Hcf for numbers {a} and {b} is {res}\".format(a=a,b=b,res=hcf(a,b)))\n",
    "#function call to calculate HCF for more than two numbers\n",
    "l=[8,16,24,32,48]\n",
    "gcd=hcf(l[0],l[1])\n",
    "for i in range(2,len(l)):\n",
    "    #print(l[i])\n",
    "    gcd=hcf(gcd,l[i])\n",
    "print(\"HCF for numbers {lst} is {res}\".format(lst=l,res=gcd))"
   ]
  },
  {
   "cell_type": "code",
   "execution_count": 44,
   "id": "26d75bef",
   "metadata": {},
   "outputs": [
    {
     "name": "stdout",
     "output_type": "stream",
     "text": [
      "10\n",
      "5\n",
      "2\n",
      "1\n",
      "0\n",
      "1\n",
      "2\n",
      "5\n",
      "10\n"
     ]
    }
   ],
   "source": [
    "#3.Write a Python Program to Convert Decimal to Binary, Octal and Hexadecimal?\n",
    "def convertFromDecimal(num):\n",
    "    if num >= 1:\n",
    "        print(num)\n",
    "        decimalToBinary(num // 2)\n",
    "    print(num)\n",
    "    #print(num % 2, end = '')\n",
    "\n",
    "#function call\n",
    "decimalToBinary(10)"
   ]
  },
  {
   "cell_type": "code",
   "execution_count": 31,
   "id": "13f5cd64",
   "metadata": {},
   "outputs": [
    {
     "name": "stdout",
     "output_type": "stream",
     "text": [
      "65\n",
      "A\n"
     ]
    }
   ],
   "source": [
    "#4.Write a Python Program To Find ASCII value of a character?\n",
    "def checkAscii(userInput):\n",
    "    try:\n",
    "        if isinstance(userInput,str)==True and len(userInput)==1:\n",
    "            return ord(userInput)\n",
    "        elif isinstance(userInput,int)==True:\n",
    "            return chr(userInput)\n",
    "    except Exception as e:\n",
    "        print(\"Error encountered- \",e)\n",
    "        \n",
    "#function call\n",
    "print(checkAscii(\"A\"))\n",
    "print(checkAscii(65))"
   ]
  },
  {
   "cell_type": "code",
   "execution_count": 5,
   "id": "a308293d",
   "metadata": {},
   "outputs": [
    {
     "name": "stdout",
     "output_type": "stream",
     "text": [
      "6\n",
      "2\n",
      "8\n",
      "2.0\n"
     ]
    }
   ],
   "source": [
    "#5.Write a Python Program to Make a Simple Calculator with 4 basic mathematical operations?\n",
    "def calculator(numOne,numTwo,operator=\"add\"):\n",
    "    try:\n",
    "        if operator==\"add\":\n",
    "            return numOne+numTwo\n",
    "        elif operator==\"sub\":\n",
    "            return numOne-numTwo\n",
    "        elif operator==\"mul\":\n",
    "            return numOne*numTwo\n",
    "        elif operator==\"div\" and numTwo!=0:\n",
    "            return numOne/numTwo\n",
    "        else:\n",
    "            pass\n",
    "    except Exception as e:\n",
    "        print(\"Error encountered-\",e)\n",
    "        \n",
    "#function call\n",
    "print(calculator(4,2))\n",
    "print(calculator(4,2,\"sub\"))\n",
    "print(calculator(4,2,\"mul\"))\n",
    "print(calculator(4,2,\"div\"))"
   ]
  }
 ],
 "metadata": {
  "kernelspec": {
   "display_name": "Python 3 (ipykernel)",
   "language": "python",
   "name": "python3"
  },
  "language_info": {
   "codemirror_mode": {
    "name": "ipython",
    "version": 3
   },
   "file_extension": ".py",
   "mimetype": "text/x-python",
   "name": "python",
   "nbconvert_exporter": "python",
   "pygments_lexer": "ipython3",
   "version": "3.9.7"
  }
 },
 "nbformat": 4,
 "nbformat_minor": 5
}
