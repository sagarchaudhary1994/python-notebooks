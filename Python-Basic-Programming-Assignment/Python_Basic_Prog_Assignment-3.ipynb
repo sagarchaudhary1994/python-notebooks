{
 "cells": [
  {
   "cell_type": "code",
   "execution_count": 3,
   "id": "6bc705e1",
   "metadata": {},
   "outputs": [
    {
     "name": "stdout",
     "output_type": "stream",
     "text": [
      "Enter any number12.98\n"
     ]
    },
    {
     "data": {
      "text/plain": [
       "'Entered number is positive'"
      ]
     },
     "execution_count": 3,
     "metadata": {},
     "output_type": "execute_result"
    }
   ],
   "source": [
    "#1.Write a Python Program to Check if a Number is Positive, Negative or Zero?\n",
    "def checkNumber():\n",
    "    try:\n",
    "        inputNum=float(input(\"Enter any number\"))\n",
    "        if inputNum>0:\n",
    "            return \"Entered number is positive\"\n",
    "        elif inputNum<0:\n",
    "            return \"Entered number is negative\"\n",
    "        else:\n",
    "            return \"Entered number is zero\"\n",
    "    except Exception as e:\n",
    "        print(\"Enter valid number\",e)\n",
    "\n",
    "#function call\n",
    "checkNumber()"
   ]
  },
  {
   "cell_type": "code",
   "execution_count": 5,
   "id": "84bc740a",
   "metadata": {},
   "outputs": [
    {
     "name": "stdout",
     "output_type": "stream",
     "text": [
      "Please enter any number- 0\n"
     ]
    },
    {
     "data": {
      "text/plain": [
       "'Entered number is even'"
      ]
     },
     "execution_count": 5,
     "metadata": {},
     "output_type": "execute_result"
    }
   ],
   "source": [
    "#2.Write a Python Program to Check if a Number is Odd or Even?\n",
    "\n",
    "def oddEven():\n",
    "    try:\n",
    "        inputNum=int(input(\"Please enter any number- \"))\n",
    "        if inputNum%2==0:\n",
    "            return \"Entered number is even\"\n",
    "        else:\n",
    "            return \"Entered number is odd\"\n",
    "    except Exception as e:\n",
    "        print(\"Enter valid number\")\n",
    "        \n",
    "#function call\n",
    "oddEven()"
   ]
  },
  {
   "cell_type": "code",
   "execution_count": 41,
   "id": "43bc1398",
   "metadata": {},
   "outputs": [
    {
     "name": "stdout",
     "output_type": "stream",
     "text": [
      "False\n",
      "False\n",
      "True\n"
     ]
    }
   ],
   "source": [
    "#3.Write a Python Program to Check Leap Year?\n",
    "def isLeapYear(year):\n",
    "    if (year % 4) == 0:\n",
    "        if (year % 100) == 0:\n",
    "            if (year % 400) == 0:\n",
    "                return True\n",
    "            else:\n",
    "                return False\n",
    "        else:\n",
    "            return True\n",
    "    else:\n",
    "        return False\n",
    "\n",
    "#Function call\n",
    "print(isLeapYear(1900))\n",
    "print(isLeapYear(2100))\n",
    "print(isLeapYear(2020))"
   ]
  },
  {
   "cell_type": "code",
   "execution_count": 32,
   "id": "c94be99b",
   "metadata": {},
   "outputs": [
    {
     "name": "stdout",
     "output_type": "stream",
     "text": [
      "True\n",
      "True\n",
      "True\n",
      "False\n"
     ]
    }
   ],
   "source": [
    "#4.Write a Python Program to Check Prime Number?\n",
    "from math import sqrt\n",
    "def isNoPrime(userInput):\n",
    "    try:\n",
    "        if userInput<=1:\n",
    "            return False\n",
    "        else:\n",
    "            for i in range(2,int(sqrt(userInput))+1 ):\n",
    "                if (userInput % i==0):\n",
    "                    return False\n",
    "            return True\n",
    "    except Exception as e:\n",
    "        print(\"Error encountered \",e)\n",
    "        \n",
    "## Function call\n",
    "print(isNoPrime(3))\n",
    "print(isNoPrime(5))\n",
    "print(isNoPrime(997))\n",
    "print(isNoPrime(98))"
   ]
  },
  {
   "cell_type": "code",
   "execution_count": 30,
   "id": "ec631e85",
   "metadata": {},
   "outputs": [
    {
     "name": "stdout",
     "output_type": "stream",
     "text": [
      "No of prime number between 1 and 10000 are: 1229\n"
     ]
    }
   ],
   "source": [
    "#5.Write a Python Program to Print all Prime Numbers in an Interval of 1-10000?\n",
    "def getAllPrime(start=1,end=10000):\n",
    "    try:\n",
    "        numList=list(range(start,end+1))\n",
    "        primeList=[]\n",
    "        for i in numList:\n",
    "            isPrime=isNoPrime(i)\n",
    "            if isPrime:\n",
    "                primeList.append(i)\n",
    "            else:\n",
    "                pass\n",
    "        return primeList\n",
    "        \n",
    "    except Exception as e:\n",
    "        print(\"Error encountered \",e)\n",
    "\n",
    "#function call\n",
    "res=getAllPrime()\n",
    "print(\"No of prime number between 1 and 10000 are:\",len(res))"
   ]
  }
 ],
 "metadata": {
  "kernelspec": {
   "display_name": "Python 3 (ipykernel)",
   "language": "python",
   "name": "python3"
  },
  "language_info": {
   "codemirror_mode": {
    "name": "ipython",
    "version": 3
   },
   "file_extension": ".py",
   "mimetype": "text/x-python",
   "name": "python",
   "nbconvert_exporter": "python",
   "pygments_lexer": "ipython3",
   "version": "3.9.7"
  }
 },
 "nbformat": 4,
 "nbformat_minor": 5
}
