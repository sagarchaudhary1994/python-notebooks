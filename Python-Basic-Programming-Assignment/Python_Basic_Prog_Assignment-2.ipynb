{
 "cells": [
  {
   "cell_type": "code",
   "execution_count": 4,
   "id": "e731e495",
   "metadata": {},
   "outputs": [
    {
     "name": "stdout",
     "output_type": "stream",
     "text": [
      "Enter distance (in km) to convert in miles: 2\n"
     ]
    },
    {
     "data": {
      "text/plain": [
       "1.24274238448"
      ]
     },
     "execution_count": 4,
     "metadata": {},
     "output_type": "execute_result"
    }
   ],
   "source": [
    "#1.Write a Python program to convert kilometers to miles?\n",
    "def kmToMileConverter():\n",
    "    try:\n",
    "        disKm=int(input(\"Enter distance (in km) to convert in miles: \"))\n",
    "        disInMilePerKm=0.62137119224\n",
    "        return disKm*disInMilePerKm\n",
    "    except Exception as e:\n",
    "        print(\"Enter valid distance in km\")\n",
    "\n",
    "## Function call\n",
    "kmToMileConverter()    "
   ]
  },
  {
   "cell_type": "code",
   "execution_count": 11,
   "id": "7e33df18",
   "metadata": {},
   "outputs": [
    {
     "name": "stdout",
     "output_type": "stream",
     "text": [
      "Enter temperature in celsius to convert in Fahrenheit: 2\n"
     ]
    },
    {
     "data": {
      "text/plain": [
       "35.6"
      ]
     },
     "execution_count": 11,
     "metadata": {},
     "output_type": "execute_result"
    }
   ],
   "source": [
    "#2.Write a Python program to convert Celsius to Fahrenheit?\n",
    "def celToFahrenConvert():\n",
    "    try:\n",
    "        tempCel=float(input(\"Enter temperature in celsius to convert in Fahrenheit: \"))\n",
    "        tempFahren=(tempCel*(9/5))+32\n",
    "        return tempFahren\n",
    "    except Exception as e:\n",
    "        print(\"Enter valid temperature in Celsius to convert in Fahrenheit\")\n",
    "\n",
    "## Function call\n",
    "celToFahrenConvert()"
   ]
  },
  {
   "cell_type": "code",
   "execution_count": 23,
   "id": "3e54853b",
   "metadata": {},
   "outputs": [
    {
     "name": "stdout",
     "output_type": "stream",
     "text": [
      "Enter the value of month from 1 to 12: 1\n",
      "Enter the year: 2022\n",
      "    January 2022\n",
      "Mo Tu We Th Fr Sa Su\n",
      "                1  2\n",
      " 3  4  5  6  7  8  9\n",
      "10 11 12 13 14 15 16\n",
      "17 18 19 20 21 22 23\n",
      "24 25 26 27 28 29 30\n",
      "31\n",
      "\n"
     ]
    }
   ],
   "source": [
    "#3.Write a Python program to display calendar?\n",
    "import calendar\n",
    "def showCalendar():\n",
    "    try:\n",
    "        varMonth=int(input(\"Enter the value of month from 1 to 12: \"))\n",
    "        varYear=int(input(\"Enter the year: \"))\n",
    "        return calendar.month(varYear,varMonth)\n",
    "    except Exception as e:\n",
    "        print(\"Enter the valid month and year\")\n",
    "\n",
    "#function call\n",
    "print(showCalendar())"
   ]
  },
  {
   "cell_type": "code",
   "execution_count": 46,
   "id": "05f57efa",
   "metadata": {},
   "outputs": [
    {
     "name": "stdout",
     "output_type": "stream",
     "text": [
      "Roots are real and same\n"
     ]
    },
    {
     "data": {
      "text/plain": [
       "{'root1': -2.0, 'root2': -2.0}"
      ]
     },
     "execution_count": 46,
     "metadata": {},
     "output_type": "execute_result"
    }
   ],
   "source": [
    "#4.Write a Python program to solve quadratic equation?\n",
    "\n",
    "import math\n",
    "import cmath\n",
    "def solveQuadraticEq(a,b,c):\n",
    "    '''\n",
    "    Solving Quadratic Equation based on formula (-b +or- sqrt(b*b-4ac))/2a\n",
    "    Root1: -b-sqrt(b*b-4ac)/2a\n",
    "    Root2: -b+sqrt(b*b-4ac)/2a\n",
    "    \n",
    "    case 1: b*b>4ac, roots are real and different\n",
    "    Roots are: -b-sqrt(b*b-4ac)/2 and -b+sqrt(b*b-4ac)/2\n",
    "    \n",
    "    case 2: b*b=4ac, roots are real and same\n",
    "    Roots are: -b/2a and -b/2a\n",
    "    \n",
    "    case 3: b*b<4ac, roots are complex and different\n",
    "    Roots are: -b-sqrt(b*b-4ac)i/2a and -b+sqrt(b*b-4ac)i/2a\n",
    "    \n",
    "    **Discriminant = b*b-4ac\n",
    "    '''\n",
    "    try:\n",
    "        if a>0:\n",
    "            #calculate the discriminant based on formula b*b-4ac\n",
    "            dis=b*b- (4*a*c)\n",
    "            #calculate the square root of absolute value of discriminant\n",
    "            dis_sqrt=math.sqrt(abs(dis))\n",
    "            if dis>0:\n",
    "                print(\"Roots are real and both roots are different\")\n",
    "                firstPart, secondPart=-b/(2*a),dis_sqrt/(2*a)\n",
    "                root1,root2=firstPart-secondPart, firstPart+secondPart\n",
    "                return {\"root1\":round(root1,3),\"root2\":round(root2,3)}\n",
    "            elif dis<0:\n",
    "                print(\"Roots are complex and different\")\n",
    "                realPart, imagPart= round(-b/(2*a),3), round((dis_sqrt/(2*a)),3)\n",
    "                root1,root2= complex(realPart, - imagPart),complex(realPart,imagPart)\n",
    "                return {\"root1\":root1,\"root2\":root2}\n",
    "            else:\n",
    "                print(\"Roots are real and same\")\n",
    "                root1,root2 = -b/(2*a), -b/(2*a)\n",
    "                return {\"root1\":round(root1,3),\"root2\":round(root2,3)}\n",
    "        else:\n",
    "            print('Please enter a valid equation as a cannot be zero for quadratic equation')\n",
    "    except Exception as e:\n",
    "        print(\"Encountered the error: \",e)\n",
    "\n",
    "#function call\n",
    "solveQuadraticEq(1,4,4)"
   ]
  },
  {
   "cell_type": "code",
   "execution_count": 14,
   "id": "77c08135",
   "metadata": {},
   "outputs": [
    {
     "data": {
      "text/plain": [
       "{'a': 2022, 'Jan': 'b'}"
      ]
     },
     "execution_count": 14,
     "metadata": {},
     "output_type": "execute_result"
    }
   ],
   "source": [
    "#5.Write a Python program to swap two variables without temp variable?\n",
    "def swapVariables(a,b):\n",
    "    a,b=b,a\n",
    "    return {\"a\":a,b:\"b\"}\n",
    "\n",
    "#function call\n",
    "swapVariables(a=\"Jan\",b=2022)"
   ]
  }
 ],
 "metadata": {
  "kernelspec": {
   "display_name": "Python 3 (ipykernel)",
   "language": "python",
   "name": "python3"
  },
  "language_info": {
   "codemirror_mode": {
    "name": "ipython",
    "version": 3
   },
   "file_extension": ".py",
   "mimetype": "text/x-python",
   "name": "python",
   "nbconvert_exporter": "python",
   "pygments_lexer": "ipython3",
   "version": "3.9.7"
  }
 },
 "nbformat": 4,
 "nbformat_minor": 5
}
